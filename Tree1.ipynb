{
  "nbformat": 4,
  "nbformat_minor": 0,
  "metadata": {
    "colab": {
      "name": "Untitled0.ipynb",
      "provenance": [],
      "authorship_tag": "ABX9TyOagPi5+fH4TLnnq3YE55Ei",
      "include_colab_link": true
    },
    "kernelspec": {
      "name": "python3",
      "display_name": "Python 3"
    }
  },
  "cells": [
    {
      "cell_type": "markdown",
      "metadata": {
        "id": "view-in-github",
        "colab_type": "text"
      },
      "source": [
        "<a href=\"https://colab.research.google.com/github/SulochanaDhar/Practice2/blob/master/Tree1.ipynb\" target=\"_parent\"><img src=\"https://colab.research.google.com/assets/colab-badge.svg\" alt=\"Open In Colab\"/></a>"
      ]
    },
    {
      "cell_type": "code",
      "metadata": {
        "id": "1m3afOEiwwl1",
        "colab_type": "code",
        "colab": {}
      },
      "source": [
        "class TreeNode():\n",
        "\n",
        "    def __init__(self, data=None, left=None, right=None):\n",
        "        self.data, self.left, self.right = data, left, right\n",
        "\n",
        "        self.parent = None\n",
        "\n",
        "        if self.left:\n",
        "            self.left.parent = self\n",
        "        if self.right:\n",
        "            self.right.parent = self"
      ],
      "execution_count": 0,
      "outputs": []
    },
    {
      "cell_type": "code",
      "metadata": {
        "id": "7OAiw2hnyH74",
        "colab_type": "code",
        "colab": {}
      },
      "source": [
        "b = TreeNode(5,TreeNode(50), TreeNode(90, None, TreeNode(37)))"
      ],
      "execution_count": 0,
      "outputs": []
    },
    {
      "cell_type": "code",
      "metadata": {
        "id": "VzbvfRpnycSP",
        "colab_type": "code",
        "colab": {
          "base_uri": "https://localhost:8080/",
          "height": 34
        },
        "outputId": "32e93758-3320-49cf-f2e8-19c8e64a68a0"
      },
      "source": [
        "b.left\n"
      ],
      "execution_count": 15,
      "outputs": [
        {
          "output_type": "execute_result",
          "data": {
            "text/plain": [
              "<__main__.TreeNode at 0x7f45a61bf470>"
            ]
          },
          "metadata": {
            "tags": []
          },
          "execution_count": 15
        }
      ]
    },
    {
      "cell_type": "code",
      "metadata": {
        "id": "83_CioNEygQQ",
        "colab_type": "code",
        "colab": {
          "base_uri": "https://localhost:8080/",
          "height": 34
        },
        "outputId": "c92f078c-fb58-4af8-a0d3-17b43b3f2e1c"
      },
      "source": [
        "print(b.left.data)"
      ],
      "execution_count": 16,
      "outputs": [
        {
          "output_type": "stream",
          "text": [
            "10\n"
          ],
          "name": "stdout"
        }
      ]
    },
    {
      "cell_type": "code",
      "metadata": {
        "id": "39uuTVdcyoOX",
        "colab_type": "code",
        "colab": {
          "base_uri": "https://localhost:8080/",
          "height": 34
        },
        "outputId": "bb5cb345-53c6-4c96-f10c-1a34cb1f3654"
      },
      "source": [
        "b.right.data"
      ],
      "execution_count": 19,
      "outputs": [
        {
          "output_type": "execute_result",
          "data": {
            "text/plain": [
              "90"
            ]
          },
          "metadata": {
            "tags": []
          },
          "execution_count": 19
        }
      ]
    },
    {
      "cell_type": "code",
      "metadata": {
        "id": "N8yCyQ26zg6h",
        "colab_type": "code",
        "colab": {
          "base_uri": "https://localhost:8080/",
          "height": 34
        },
        "outputId": "dc151b7a-e7ce-40de-9115-27c33e388bb2"
      },
      "source": [
        "b.right.right.data"
      ],
      "execution_count": 21,
      "outputs": [
        {
          "output_type": "execute_result",
          "data": {
            "text/plain": [
              "37"
            ]
          },
          "metadata": {
            "tags": []
          },
          "execution_count": 21
        }
      ]
    },
    {
      "cell_type": "code",
      "metadata": {
        "id": "h9hqbq0_ztoZ",
        "colab_type": "code",
        "colab": {
          "base_uri": "https://localhost:8080/",
          "height": 34
        },
        "outputId": "648bbf8f-d550-4641-855e-87cfffa9c516"
      },
      "source": [
        "b.right.right.parent.data"
      ],
      "execution_count": 22,
      "outputs": [
        {
          "output_type": "execute_result",
          "data": {
            "text/plain": [
              "90"
            ]
          },
          "metadata": {
            "tags": []
          },
          "execution_count": 22
        }
      ]
    },
    {
      "cell_type": "code",
      "metadata": {
        "id": "RdTZbE492VEB",
        "colab_type": "code",
        "colab": {}
      },
      "source": [
        "import numpy as np\n",
        "import pandas as pd\n",
        "import matplotlib.pyplot as plt\n",
        "from math import sin\n"
      ],
      "execution_count": 0,
      "outputs": []
    },
    {
      "cell_type": "code",
      "metadata": {
        "id": "EpxsT72g2lnL",
        "colab_type": "code",
        "colab": {}
      },
      "source": [
        "x = np.arange(0,50,0.001)"
      ],
      "execution_count": 0,
      "outputs": []
    },
    {
      "cell_type": "code",
      "metadata": {
        "id": "nT31OLJp3EXk",
        "colab_type": "code",
        "colab": {}
      },
      "source": [
        "y1 = np.sin(2*np.pi*x/10)"
      ],
      "execution_count": 0,
      "outputs": []
    },
    {
      "cell_type": "code",
      "metadata": {
        "id": "NEMknv7W3mTY",
        "colab_type": "code",
        "colab": {
          "base_uri": "https://localhost:8080/",
          "height": 282
        },
        "outputId": "36a40266-822f-42cd-d8b0-6dd682504df6"
      },
      "source": [
        "plt.scatter(x,y1)"
      ],
      "execution_count": 21,
      "outputs": [
        {
          "output_type": "execute_result",
          "data": {
            "text/plain": [
              "<matplotlib.collections.PathCollection at 0x7f6f5758c080>"
            ]
          },
          "metadata": {
            "tags": []
          },
          "execution_count": 21
        },
        {
          "output_type": "display_data",
          "data": {
            "image/png": "[encoded data removed]",
            "text/plain": [
              "<Figure size 432x288 with 1 Axes>"
            ]
          },
          "metadata": {
            "tags": [],
            "needs_background": "light"
          }
        }
      ]
    },
    {
      "cell_type": "code",
      "metadata": {
        "id": "_SXDh-1t4JYY",
        "colab_type": "code",
        "colab": {}
      },
      "source": [
        "y2 = (1/3)*np.sin(3*2*np.pi*x/10)"
      ],
      "execution_count": 0,
      "outputs": []
    },
    {
      "cell_type": "code",
      "metadata": {
        "id": "kcud9Ktbpo2X",
        "colab_type": "code",
        "colab": {}
      },
      "source": [
        "y3 = (1/5)*np.sin(5*2*np.pi*x/10)"
      ],
      "execution_count": 0,
      "outputs": []
    },
    {
      "cell_type": "code",
      "metadata": {
        "id": "_UkO5x62pzgP",
        "colab_type": "code",
        "colab": {
          "base_uri": "https://localhost:8080/",
          "height": 265
        },
        "outputId": "53d14fe9-c07b-4aa3-a7e7-245d77fef461"
      },
      "source": [
        "plt.scatter(x,y1,color='b')\n",
        "plt.scatter(x,y1+y2, color='g')\n",
        "plt.scatter(x,y1+y2+y3,color='r')\n",
        "plt.show()"
      ],
      "execution_count": 15,
      "outputs": [
        {
          "output_type": "display_data",
          "data": {
            "image/png": "[encoded data removed]",
            "text/plain": [
              "<Figure size 432x288 with 1 Axes>"
            ]
          },
          "metadata": {
            "tags": [],
            "needs_background": "light"
          }
        }
      ]
    },
    {
      "cell_type": "code",
      "metadata": {
        "id": "C-U1ClLFqVFT",
        "colab_type": "code",
        "colab": {}
      },
      "source": [
        "y4 = (1/7)*np.sin(7*2*np.pi*x/10)"
      ],
      "execution_count": 0,
      "outputs": []
    },
    {
      "cell_type": "code",
      "metadata": {
        "id": "kuSYC6AjrFEt",
        "colab_type": "code",
        "colab": {}
      },
      "source": [
        "y5 = (1/9)*np.sin(9*2*np.pi*x/10)"
      ],
      "execution_count": 0,
      "outputs": []
    },
    {
      "cell_type": "code",
      "metadata": {
        "id": "pfRsIQ1ErJ0L",
        "colab_type": "code",
        "colab": {
          "base_uri": "https://localhost:8080/",
          "height": 295
        },
        "outputId": "a1b09faf-85f9-4f55-d119-e266be5e53ff"
      },
      "source": [
        "s=0.1\n",
        "plt.scatter(x,get_reconstructed_signal(x,1,15),color='b', s=s, label='1')\n",
        "plt.scatter(x,get_reconstructed_signal(x,20,15),color='r', s=s, label='5')\n",
        "plt.title(\"Sulochana's first matplotlib chart\")\n",
        "plt.xlabel(\"Time\")\n",
        "plt.ylabel(\"Amplitude\")\n",
        "plt.legend()\n",
        "plt.grid()\n",
        "plt.show()"
      ],
      "execution_count": 51,
      "outputs": [
        {
          "output_type": "display_data",
          "data": {
            "image/png": "[encoded data removed]",
            "text/plain": [
              "<Figure size 432x288 with 1 Axes>"
            ]
          },
          "metadata": {
            "tags": [],
            "needs_background": "light"
          }
        }
      ]
    },
    {
      "cell_type": "code",
      "metadata": {
        "id": "HcoiN_NgyWsL",
        "colab_type": "code",
        "colab": {
          "base_uri": "https://localhost:8080/",
          "height": 295
        },
        "outputId": "c200fdf0-a46f-4aeb-a94a-6846d6a48e0a"
      },
      "source": [
        "def make_fourier_plot(n, L):\n",
        "  s=0.1\n",
        "  plt.scatter(x,get_reconstructed_signal(x,1,L),color='b', s=s, label='1')\n",
        "  plt.scatter(x,get_reconstructed_signal(x,n,L),color='r', s=s, label=n)\n",
        "  plt.title(\"Sulochana's first matplotlib chart\")\n",
        "  plt.xlabel(\"Time\")\n",
        "  plt.ylabel(\"Amplitude\")\n",
        "  plt.legend()\n",
        "  plt.grid()\n",
        "  plt.show()\n",
        "\n",
        "make_fourier_plot(5, 10)"
      ],
      "execution_count": 53,
      "outputs": [
        {
          "output_type": "display_data",
          "data": {
            "image/png": "[encoded data removed]",
            "text/plain": [
              "<Figure size 432x288 with 1 Axes>"
            ]
          },
          "metadata": {
            "tags": [],
            "needs_background": "light"
          }
        }
      ]
    },
    {
      "cell_type": "code",
      "metadata": {
        "id": "x_1s9z8mrRLa",
        "colab_type": "code",
        "colab": {}
      },
      "source": [
        " def get_fourier_component(x, n, L):\n",
        "  y = (1/n)*np.sin(n*2*np.pi*x/L)\n",
        "  return y"
      ],
      "execution_count": 0,
      "outputs": []
    },
    {
      "cell_type": "code",
      "metadata": {
        "id": "LDzEZIowvCX-",
        "colab_type": "code",
        "colab": {
          "base_uri": "https://localhost:8080/",
          "height": 50
        },
        "outputId": "4d218a28-fdad-4311-9fe7-38145f9562bc"
      },
      "source": [
        "get_fourier_component(x, 1, 10)"
      ],
      "execution_count": 37,
      "outputs": [
        {
          "output_type": "execute_result",
          "data": {
            "text/plain": [
              "array([ 0.        ,  0.00062832,  0.00125664, ..., -0.00188495,\n",
              "       -0.00125664, -0.00062832])"
            ]
          },
          "metadata": {
            "tags": []
          },
          "execution_count": 37
        }
      ]
    },
    {
      "cell_type": "code",
      "metadata": {
        "id": "dp3v8iCxvMkI",
        "colab_type": "code",
        "colab": {}
      },
      "source": [
        "def get_reconstructed_signal (x, n, L):\n",
        "  full_series = 0\n",
        "  for component in range(n):\n",
        "    # print(component)\n",
        "    term = get_fourier_component(x,2*component+1,L)\n",
        "    full_series = full_series+term\n",
        "  return full_series"
      ],
      "execution_count": 0,
      "outputs": []
    },
    {
      "cell_type": "code",
      "metadata": {
        "id": "aQV5MwxLvwh2",
        "colab_type": "code",
        "colab": {
          "base_uri": "https://localhost:8080/",
          "height": 50
        },
        "outputId": "8ca32377-aae3-4c5f-d36e-2b7690eb5ef3"
      },
      "source": [
        "get_reconstructed_signal(x,4,10)"
      ],
      "execution_count": 46,
      "outputs": [
        {
          "output_type": "execute_result",
          "data": {
            "text/plain": [
              "array([ 0.        ,  0.00251327,  0.00502652, ..., -0.00753973,\n",
              "       -0.00502652, -0.00251327])"
            ]
          },
          "metadata": {
            "tags": []
          },
          "execution_count": 46
        }
      ]
    },
    {
      "cell_type": "code",
      "metadata": {
        "id": "esq383X0v1VV",
        "colab_type": "code",
        "colab": {}
      },
      "source": [
        ""
      ],
      "execution_count": 0,
      "outputs": []
    }
  ]
}