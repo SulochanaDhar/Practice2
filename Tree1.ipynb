{
  "nbformat": 4,
  "nbformat_minor": 0,
  "metadata": {
    "colab": {
      "name": "Untitled0.ipynb",
      "provenance": [],
      "authorship_tag": "ABX9TyPvNSLsz0zSaq0/wSzGoq6n",
      "include_colab_link": true
    },
    "kernelspec": {
      "name": "python3",
      "display_name": "Python 3"
    }
  },
  "cells": [
    {
      "cell_type": "markdown",
      "metadata": {
        "id": "view-in-github",
        "colab_type": "text"
      },
      "source": [
        "<a href=\"https://colab.research.google.com/github/SulochanaDhar/Practice2/blob/master/Tree1.ipynb\" target=\"_parent\"><img src=\"https://colab.research.google.com/assets/colab-badge.svg\" alt=\"Open In Colab\"/></a>"
      ]
    },
    {
      "cell_type": "code",
      "metadata": {
        "id": "1m3afOEiwwl1",
        "colab_type": "code",
        "colab": {}
      },
      "source": [
        "class TreeNode():\n",
        "\n",
        "    def __init__(self, data=None, left=None, right=None):\n",
        "        self.data, self.left, self.right = data, left, right\n",
        "\n",
        "        self.parent = None\n",
        "\n",
        "        if self.left:\n",
        "            self.left.parent = self\n",
        "        if self.right:\n",
        "            self.right.parent = self"
      ],
      "execution_count": 0,
      "outputs": []
    },
    {
      "cell_type": "code",
      "metadata": {
        "id": "NkAZqFcww5Co",
        "colab_type": "code",
        "colab": {}
      },
      "source": [
        "a = TreeNode(10)"
      ],
      "execution_count": 0,
      "outputs": []
    },
    {
      "cell_type": "code",
      "metadata": {
        "id": "a4CwDA5nxtlH",
        "colab_type": "code",
        "colab": {
          "base_uri": "https://localhost:8080/",
          "height": 34
        },
        "outputId": "fc6e5ef8-fa88-4617-c511-a403bc97e72e"
      },
      "source": [
        "print(a.data)"
      ],
      "execution_count": 13,
      "outputs": [
        {
          "output_type": "stream",
          "text": [
            "10\n"
          ],
          "name": "stdout"
        }
      ]
    },
    {
      "cell_type": "code",
      "metadata": {
        "id": "2F7eLxkhyE0Y",
        "colab_type": "code",
        "colab": {}
      },
      "source": [
        "a.left"
      ],
      "execution_count": 0,
      "outputs": []
    },
    {
      "cell_type": "code",
      "metadata": {
        "id": "SAPxd22tyHOw",
        "colab_type": "code",
        "colab": {}
      },
      "source": [
        "a.right"
      ],
      "execution_count": 0,
      "outputs": []
    },
    {
      "cell_type": "code",
      "metadata": {
        "id": "7OAiw2hnyH74",
        "colab_type": "code",
        "colab": {}
      },
      "source": [
        "b = TreeNode(5,TreeNode(50), TreeNode(90, None, TreeNode(37)))"
      ],
      "execution_count": 0,
      "outputs": []
    },
    {
      "cell_type": "code",
      "metadata": {
        "id": "VzbvfRpnycSP",
        "colab_type": "code",
        "colab": {
          "base_uri": "https://localhost:8080/",
          "height": 34
        },
        "outputId": "32e93758-3320-49cf-f2e8-19c8e64a68a0"
      },
      "source": [
        "b.left\n"
      ],
      "execution_count": 15,
      "outputs": [
        {
          "output_type": "execute_result",
          "data": {
            "text/plain": [
              "<__main__.TreeNode at 0x7f45a61bf470>"
            ]
          },
          "metadata": {
            "tags": []
          },
          "execution_count": 15
        }
      ]
    },
    {
      "cell_type": "code",
      "metadata": {
        "id": "83_CioNEygQQ",
        "colab_type": "code",
        "colab": {
          "base_uri": "https://localhost:8080/",
          "height": 34
        },
        "outputId": "c92f078c-fb58-4af8-a0d3-17b43b3f2e1c"
      },
      "source": [
        "print(b.left.data)"
      ],
      "execution_count": 16,
      "outputs": [
        {
          "output_type": "stream",
          "text": [
            "10\n"
          ],
          "name": "stdout"
        }
      ]
    },
    {
      "cell_type": "code",
      "metadata": {
        "id": "39uuTVdcyoOX",
        "colab_type": "code",
        "colab": {
          "base_uri": "https://localhost:8080/",
          "height": 34
        },
        "outputId": "bb5cb345-53c6-4c96-f10c-1a34cb1f3654"
      },
      "source": [
        "b.right.data"
      ],
      "execution_count": 19,
      "outputs": [
        {
          "output_type": "execute_result",
          "data": {
            "text/plain": [
              "90"
            ]
          },
          "metadata": {
            "tags": []
          },
          "execution_count": 19
        }
      ]
    },
    {
      "cell_type": "code",
      "metadata": {
        "id": "N8yCyQ26zg6h",
        "colab_type": "code",
        "colab": {
          "base_uri": "https://localhost:8080/",
          "height": 34
        },
        "outputId": "dc151b7a-e7ce-40de-9115-27c33e388bb2"
      },
      "source": [
        "b.right.right.data"
      ],
      "execution_count": 21,
      "outputs": [
        {
          "output_type": "execute_result",
          "data": {
            "text/plain": [
              "37"
            ]
          },
          "metadata": {
            "tags": []
          },
          "execution_count": 21
        }
      ]
    },
    {
      "cell_type": "code",
      "metadata": {
        "id": "h9hqbq0_ztoZ",
        "colab_type": "code",
        "colab": {}
      },
      "source": [
        ""
      ],
      "execution_count": 0,
      "outputs": []
    }
  ]
}